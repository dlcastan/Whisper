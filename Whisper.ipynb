{
  "cells": [
    {
      "cell_type": "markdown",
      "source": [
        "\n",
        "# Degrabar y Traducir\n",
        "\n",
        "Autor: Diego Lopez Castan\n",
        "\n",
        "URL: https://diegolopezcastan.com/\n"
      ],
      "metadata": {
        "id": "Lbja1jB3vDOT"
      }
    },
    {
      "cell_type": "code",
      "execution_count": 1,
      "metadata": {
        "id": "ZsJUxc0aRsAf",
        "outputId": "049cb585-c3ec-4b3b-9f00-d27e4fd3fb59",
        "colab": {
          "base_uri": "https://localhost:8080/"
        }
      },
      "outputs": [
        {
          "output_type": "stream",
          "name": "stdout",
          "text": [
            "  Installing build dependencies ... \u001b[?25l\u001b[?25hdone\n",
            "  Getting requirements to build wheel ... \u001b[?25l\u001b[?25hdone\n",
            "  Preparing metadata (pyproject.toml) ... \u001b[?25l\u001b[?25hdone\n",
            "\u001b[2K     \u001b[90m━━━━━━━━━━━━━━━━━━━━━━━━━━━━━━━━━━━━━━━━\u001b[0m \u001b[32m1.7/1.7 MB\u001b[0m \u001b[31m23.3 MB/s\u001b[0m eta \u001b[36m0:00:00\u001b[0m\n",
            "\u001b[?25h  Building wheel for openai-whisper (pyproject.toml) ... \u001b[?25l\u001b[?25hdone\n"
          ]
        }
      ],
      "source": [
        "# Instalar librerias de Whisper\n",
        "! pip install git+https://github.com/openai/whisper.git -q"
      ]
    },
    {
      "cell_type": "code",
      "source": [
        "# Importar modelo\n",
        "import whisper\n",
        "model = whisper.load_model(\"base\")\n"
      ],
      "metadata": {
        "id": "Kr5faKybKi4p",
        "outputId": "a80b4d92-a69d-4054-d902-1f71f88b12a3",
        "colab": {
          "base_uri": "https://localhost:8080/"
        }
      },
      "execution_count": 2,
      "outputs": [
        {
          "output_type": "stream",
          "name": "stderr",
          "text": [
            "100%|███████████████████████████████████████| 139M/139M [00:01<00:00, 85.4MiB/s]\n"
          ]
        }
      ]
    },
    {
      "cell_type": "code",
      "source": [
        "# Instalo libreria ffmpeg\n",
        "!sudo apt update && sudo apt install ffmpeg"
      ],
      "metadata": {
        "colab": {
          "base_uri": "https://localhost:8080/"
        },
        "id": "dd5X577M4toL",
        "outputId": "1eea05c7-7236-4472-9258-b800f27df235"
      },
      "execution_count": 3,
      "outputs": [
        {
          "output_type": "stream",
          "name": "stdout",
          "text": [
            "\u001b[33m\r0% [Working]\u001b[0m\r            \rGet:1 https://cloud.r-project.org/bin/linux/ubuntu focal-cran40/ InRelease [3,622 B]\n",
            "\u001b[33m\r0% [Connecting to archive.ubuntu.com] [Connecting to security.ubuntu.com] [1 In\u001b[0m\u001b[33m\r0% [Connecting to archive.ubuntu.com] [Connecting to security.ubuntu.com] [Conn\u001b[0m\r                                                                               \rGet:2 https://developer.download.nvidia.com/compute/cuda/repos/ubuntu2004/x86_64  InRelease [1,581 B]\n",
            "\u001b[33m\r0% [Connecting to archive.ubuntu.com (91.189.91.38)] [Connecting to security.ub\u001b[0m\r                                                                               \rGet:3 http://security.ubuntu.com/ubuntu focal-security InRelease [114 kB]\n",
            "Hit:4 http://archive.ubuntu.com/ubuntu focal InRelease\n",
            "Get:5 http://archive.ubuntu.com/ubuntu focal-updates InRelease [114 kB]\n",
            "Hit:6 http://ppa.launchpad.net/c2d4u.team/c2d4u4.0+/ubuntu focal InRelease\n",
            "Get:7 https://developer.download.nvidia.com/compute/cuda/repos/ubuntu2004/x86_64  Packages [1,083 kB]\n",
            "Get:8 http://archive.ubuntu.com/ubuntu focal-backports InRelease [108 kB]\n",
            "Hit:9 http://ppa.launchpad.net/cran/libgit2/ubuntu focal InRelease\n",
            "Get:10 http://security.ubuntu.com/ubuntu focal-security/restricted amd64 Packages [2,536 kB]\n",
            "Hit:11 http://ppa.launchpad.net/deadsnakes/ppa/ubuntu focal InRelease\n",
            "Get:12 http://archive.ubuntu.com/ubuntu focal-updates/multiverse amd64 Packages [32.0 kB]\n",
            "Get:13 http://archive.ubuntu.com/ubuntu focal-updates/universe amd64 Packages [1,371 kB]\n",
            "Get:14 http://security.ubuntu.com/ubuntu focal-security/universe amd64 Packages [1,072 kB]\n",
            "Get:15 http://security.ubuntu.com/ubuntu focal-security/multiverse amd64 Packages [29.3 kB]\n",
            "Get:16 http://security.ubuntu.com/ubuntu focal-security/main amd64 Packages [2,866 kB]\n",
            "Hit:17 http://ppa.launchpad.net/graphics-drivers/ppa/ubuntu focal InRelease\n",
            "Get:18 http://archive.ubuntu.com/ubuntu focal-updates/restricted amd64 Packages [2,677 kB]\n",
            "Get:19 http://archive.ubuntu.com/ubuntu focal-updates/main amd64 Packages [3,346 kB]\n",
            "Hit:20 http://ppa.launchpad.net/ubuntugis/ppa/ubuntu focal InRelease\n",
            "Fetched 15.4 MB in 2s (8,126 kB/s)\n",
            "Reading package lists... Done\n",
            "Building dependency tree       \n",
            "Reading state information... Done\n",
            "15 packages can be upgraded. Run 'apt list --upgradable' to see them.\n",
            "Reading package lists... Done\n",
            "Building dependency tree       \n",
            "Reading state information... Done\n",
            "ffmpeg is already the newest version (7:4.2.7-0ubuntu0.1).\n",
            "0 upgraded, 0 newly installed, 0 to remove and 15 not upgraded.\n"
          ]
        }
      ]
    },
    {
      "cell_type": "code",
      "source": [
        "# Subir archivo\n",
        "from google.colab import files\n",
        "uploaded = files.upload()"
      ],
      "metadata": {
        "colab": {
          "base_uri": "https://localhost:8080/",
          "height": 77
        },
        "id": "SYTM6j3yzAOG",
        "outputId": "fe5e3b40-1672-497b-ed45-6fb3e7168158"
      },
      "execution_count": 5,
      "outputs": [
        {
          "output_type": "display_data",
          "data": {
            "text/plain": [
              "<IPython.core.display.HTML object>"
            ],
            "text/html": [
              "\n",
              "     <input type=\"file\" id=\"files-b7080a65-a2b3-4606-8531-b62956bf13e2\" name=\"files[]\" multiple disabled\n",
              "        style=\"border:none\" />\n",
              "     <output id=\"result-b7080a65-a2b3-4606-8531-b62956bf13e2\">\n",
              "      Upload widget is only available when the cell has been executed in the\n",
              "      current browser session. Please rerun this cell to enable.\n",
              "      </output>\n",
              "      <script>// Copyright 2017 Google LLC\n",
              "//\n",
              "// Licensed under the Apache License, Version 2.0 (the \"License\");\n",
              "// you may not use this file except in compliance with the License.\n",
              "// You may obtain a copy of the License at\n",
              "//\n",
              "//      http://www.apache.org/licenses/LICENSE-2.0\n",
              "//\n",
              "// Unless required by applicable law or agreed to in writing, software\n",
              "// distributed under the License is distributed on an \"AS IS\" BASIS,\n",
              "// WITHOUT WARRANTIES OR CONDITIONS OF ANY KIND, either express or implied.\n",
              "// See the License for the specific language governing permissions and\n",
              "// limitations under the License.\n",
              "\n",
              "/**\n",
              " * @fileoverview Helpers for google.colab Python module.\n",
              " */\n",
              "(function(scope) {\n",
              "function span(text, styleAttributes = {}) {\n",
              "  const element = document.createElement('span');\n",
              "  element.textContent = text;\n",
              "  for (const key of Object.keys(styleAttributes)) {\n",
              "    element.style[key] = styleAttributes[key];\n",
              "  }\n",
              "  return element;\n",
              "}\n",
              "\n",
              "// Max number of bytes which will be uploaded at a time.\n",
              "const MAX_PAYLOAD_SIZE = 100 * 1024;\n",
              "\n",
              "function _uploadFiles(inputId, outputId) {\n",
              "  const steps = uploadFilesStep(inputId, outputId);\n",
              "  const outputElement = document.getElementById(outputId);\n",
              "  // Cache steps on the outputElement to make it available for the next call\n",
              "  // to uploadFilesContinue from Python.\n",
              "  outputElement.steps = steps;\n",
              "\n",
              "  return _uploadFilesContinue(outputId);\n",
              "}\n",
              "\n",
              "// This is roughly an async generator (not supported in the browser yet),\n",
              "// where there are multiple asynchronous steps and the Python side is going\n",
              "// to poll for completion of each step.\n",
              "// This uses a Promise to block the python side on completion of each step,\n",
              "// then passes the result of the previous step as the input to the next step.\n",
              "function _uploadFilesContinue(outputId) {\n",
              "  const outputElement = document.getElementById(outputId);\n",
              "  const steps = outputElement.steps;\n",
              "\n",
              "  const next = steps.next(outputElement.lastPromiseValue);\n",
              "  return Promise.resolve(next.value.promise).then((value) => {\n",
              "    // Cache the last promise value to make it available to the next\n",
              "    // step of the generator.\n",
              "    outputElement.lastPromiseValue = value;\n",
              "    return next.value.response;\n",
              "  });\n",
              "}\n",
              "\n",
              "/**\n",
              " * Generator function which is called between each async step of the upload\n",
              " * process.\n",
              " * @param {string} inputId Element ID of the input file picker element.\n",
              " * @param {string} outputId Element ID of the output display.\n",
              " * @return {!Iterable<!Object>} Iterable of next steps.\n",
              " */\n",
              "function* uploadFilesStep(inputId, outputId) {\n",
              "  const inputElement = document.getElementById(inputId);\n",
              "  inputElement.disabled = false;\n",
              "\n",
              "  const outputElement = document.getElementById(outputId);\n",
              "  outputElement.innerHTML = '';\n",
              "\n",
              "  const pickedPromise = new Promise((resolve) => {\n",
              "    inputElement.addEventListener('change', (e) => {\n",
              "      resolve(e.target.files);\n",
              "    });\n",
              "  });\n",
              "\n",
              "  const cancel = document.createElement('button');\n",
              "  inputElement.parentElement.appendChild(cancel);\n",
              "  cancel.textContent = 'Cancel upload';\n",
              "  const cancelPromise = new Promise((resolve) => {\n",
              "    cancel.onclick = () => {\n",
              "      resolve(null);\n",
              "    };\n",
              "  });\n",
              "\n",
              "  // Wait for the user to pick the files.\n",
              "  const files = yield {\n",
              "    promise: Promise.race([pickedPromise, cancelPromise]),\n",
              "    response: {\n",
              "      action: 'starting',\n",
              "    }\n",
              "  };\n",
              "\n",
              "  cancel.remove();\n",
              "\n",
              "  // Disable the input element since further picks are not allowed.\n",
              "  inputElement.disabled = true;\n",
              "\n",
              "  if (!files) {\n",
              "    return {\n",
              "      response: {\n",
              "        action: 'complete',\n",
              "      }\n",
              "    };\n",
              "  }\n",
              "\n",
              "  for (const file of files) {\n",
              "    const li = document.createElement('li');\n",
              "    li.append(span(file.name, {fontWeight: 'bold'}));\n",
              "    li.append(span(\n",
              "        `(${file.type || 'n/a'}) - ${file.size} bytes, ` +\n",
              "        `last modified: ${\n",
              "            file.lastModifiedDate ? file.lastModifiedDate.toLocaleDateString() :\n",
              "                                    'n/a'} - `));\n",
              "    const percent = span('0% done');\n",
              "    li.appendChild(percent);\n",
              "\n",
              "    outputElement.appendChild(li);\n",
              "\n",
              "    const fileDataPromise = new Promise((resolve) => {\n",
              "      const reader = new FileReader();\n",
              "      reader.onload = (e) => {\n",
              "        resolve(e.target.result);\n",
              "      };\n",
              "      reader.readAsArrayBuffer(file);\n",
              "    });\n",
              "    // Wait for the data to be ready.\n",
              "    let fileData = yield {\n",
              "      promise: fileDataPromise,\n",
              "      response: {\n",
              "        action: 'continue',\n",
              "      }\n",
              "    };\n",
              "\n",
              "    // Use a chunked sending to avoid message size limits. See b/62115660.\n",
              "    let position = 0;\n",
              "    do {\n",
              "      const length = Math.min(fileData.byteLength - position, MAX_PAYLOAD_SIZE);\n",
              "      const chunk = new Uint8Array(fileData, position, length);\n",
              "      position += length;\n",
              "\n",
              "      const base64 = btoa(String.fromCharCode.apply(null, chunk));\n",
              "      yield {\n",
              "        response: {\n",
              "          action: 'append',\n",
              "          file: file.name,\n",
              "          data: base64,\n",
              "        },\n",
              "      };\n",
              "\n",
              "      let percentDone = fileData.byteLength === 0 ?\n",
              "          100 :\n",
              "          Math.round((position / fileData.byteLength) * 100);\n",
              "      percent.textContent = `${percentDone}% done`;\n",
              "\n",
              "    } while (position < fileData.byteLength);\n",
              "  }\n",
              "\n",
              "  // All done.\n",
              "  yield {\n",
              "    response: {\n",
              "      action: 'complete',\n",
              "    }\n",
              "  };\n",
              "}\n",
              "\n",
              "scope.google = scope.google || {};\n",
              "scope.google.colab = scope.google.colab || {};\n",
              "scope.google.colab._files = {\n",
              "  _uploadFiles,\n",
              "  _uploadFilesContinue,\n",
              "};\n",
              "})(self);\n",
              "</script> "
            ]
          },
          "metadata": {}
        },
        {
          "output_type": "stream",
          "name": "stdout",
          "text": [
            "Saving Diego_Lopez_Castan.mp3 to Diego_Lopez_Castan.mp3\n"
          ]
        }
      ]
    },
    {
      "cell_type": "code",
      "source": [
        "# Transcribir audio con timeline\n",
        "!whisper \"Diego_Lopez_Castan.mp3\" --model medium"
      ],
      "metadata": {
        "colab": {
          "base_uri": "https://localhost:8080/"
        },
        "id": "3NwQO2wq1GC-",
        "outputId": "27c6b716-4b80-41a7-d04b-24694ec2bd99"
      },
      "execution_count": 6,
      "outputs": [
        {
          "output_type": "stream",
          "name": "stdout",
          "text": [
            "100%|█████████████████████████████████████| 1.42G/1.42G [00:17<00:00, 88.2MiB/s]\n",
            "Detecting language using up to the first 30 seconds. Use `--language` to specify the language\n",
            "Detected language: Spanish\n",
            "[00:00.000 --> 00:08.560]  La idea de la charla de hoy es un poquito contarles qué es lo que nos pasa cuando utilizamos\n",
            "[00:08.560 --> 00:15.460]  algún tipo de dispositivos, cuando nos metemos con algún tipo de interfaz, qué es lo que\n",
            "[00:15.460 --> 00:16.700]  nos pasa a nuestro cerebro.\n",
            "[00:16.700 --> 00:26.820]  Antes de empezar, quería contarles dos cositas para que empecemos este viaje por esta temática\n",
            "[00:26.820 --> 00:28.340]  de lo que es el cerebro digital.\n",
            "[00:28.340 --> 00:34.960]  Primero hay que hacer una distinción, lo que es mente de cerebro, a veces es un concepto\n",
            "[00:34.960 --> 00:40.260]  que se suele mezclar, se suelen hablar de lo mismo y en realidad son dos cosas totalmente\n",
            "[00:40.260 --> 00:41.780]  diferentes.\n",
            "[00:41.780 --> 00:50.380]  Cerebro es lo biológico, lo que cada uno de nosotros compartimos, en cambio mente tiene\n",
            "[00:50.380 --> 00:55.900]  que ver con las experiencias nuestras, nuestros sentimientos, nuestros recuerdos, es individual,\n",
            "[00:55.900 --> 01:03.260]  cada uno las fue creando a medida que fue interactuando con el medio ambiente.\n",
            "[01:03.260 --> 01:08.780]  Esas son las cosas que quería aclarar y otro tema que es muy importante que tiene que ver\n",
            "[01:08.780 --> 01:20.020]  con cómo nos afecta, el tema de esta interacción que hay con el mundo.\n",
            "[01:20.020 --> 01:26.060]  La primera pregunta que nos viene es cómo nos modifica el cerebro, ¿nos modifican las\n",
            "[01:26.060 --> 01:29.220]  tecnologías al cerebro?\n",
            "[01:29.220 --> 01:35.620]  La respuesta fácil es sí, todo lo que hacemos nosotros nos modifica, modifica nuestro cerebro,\n",
            "[01:35.620 --> 01:42.860]  pero no es diferente a la modificación que se va a producir cuando aprendemos a andar\n",
            "[01:42.860 --> 01:49.100]  en bicicleta, por ejemplo, o cuando aprendemos a manejar.\n",
            "[01:49.100 --> 01:54.060]  El tercer punto acá es la cantidad de tiempo que estamos interactuando con la tecnología,\n",
            "[01:54.060 --> 01:58.900]  eso es lo que va a determinar cuánto nos va a afectar a nuestro cerebro.\n"
          ]
        }
      ]
    },
    {
      "cell_type": "code",
      "source": [
        "# Transcribir y guardar el contenido en diferentes extensiones\n",
        "!whisper \"Diego_Lopez_Castan.mp3\" --task transcribe --model medium --verbose False --output_dir audio_transcription"
      ],
      "metadata": {
        "colab": {
          "base_uri": "https://localhost:8080/"
        },
        "id": "I9mRxXMzxrU6",
        "outputId": "7ae1c158-d0c9-4916-a76a-3f38acf97e73"
      },
      "execution_count": 7,
      "outputs": [
        {
          "output_type": "stream",
          "name": "stdout",
          "text": [
            "Detected language: Spanish\n",
            "100% 12068/12068 [00:22<00:00, 530.43frames/s]\n"
          ]
        }
      ]
    },
    {
      "cell_type": "code",
      "source": [
        "# Traducir el audio al ingles\n",
        "!whisper \"Diego_Lopez_Castan.mp3\" --task translate --model medium"
      ],
      "metadata": {
        "colab": {
          "base_uri": "https://localhost:8080/"
        },
        "id": "DnZqS_5D2lhp",
        "outputId": "8c001c41-314e-4035-b916-163ab7203182"
      },
      "execution_count": 8,
      "outputs": [
        {
          "output_type": "stream",
          "name": "stdout",
          "text": [
            "Detecting language using up to the first 30 seconds. Use `--language` to specify the language\n",
            "Detected language: Spanish\n",
            "[00:00.000 --> 00:10.000]  The idea of today's talk is to tell you a little bit about what happens to us when we use some kind of device,\n",
            "[00:10.000 --> 00:17.000]  when we get involved with some kind of interface, what happens to our brain.\n",
            "[00:19.000 --> 00:29.000]  Before starting, I wanted to tell you two things so that we can start this journey through this subject of what the digital brain is.\n",
            "[00:29.000 --> 00:33.000]  First, we have to make a distinction between what the brain is.\n",
            "[00:33.000 --> 00:41.000]  Sometimes it is a concept that is usually mixed, they usually talk about the same thing, and in reality they are two totally different things.\n",
            "[00:41.000 --> 00:47.000]  The brain is the biological thing, what each of us share.\n",
            "[00:47.000 --> 00:55.000]  On the other hand, the mind has to do with our experiences, our feelings, our memories, it is individual.\n",
            "[00:55.000 --> 01:00.000]  Each one was creating it as he was interacting with the environment.\n",
            "[01:02.000 --> 01:11.000]  That is one of the things I wanted to clarify and another topic that is very important that has to do with how it affects us,\n",
            "[01:11.000 --> 01:18.000]  the topic of this interaction that there is with the world.\n",
            "[01:19.000 --> 01:25.000]  The first question that came to us is how the brain modifies us.\n",
            "[01:25.000 --> 01:27.000]  Does it modify our brain technologies?\n",
            "[01:28.000 --> 01:34.000]  The easy answer is yes, everything we do modifies us, it modifies our brain.\n",
            "[01:35.000 --> 01:47.000]  But it is no different from the modification that is going to occur when we learn to ride a bicycle, for example, or when we learn to drive.\n",
            "[01:48.000 --> 01:53.000]  What is the point here? It is the amount of time that we are interacting with technology.\n",
            "[01:53.000 --> 01:59.000]  That is what will determine how much it will affect us, how much it will affect our brain.\n"
          ]
        }
      ]
    },
    {
      "cell_type": "code",
      "source": [
        "# Traducir el audio al ingles y guardarlo en archivos\n",
        "!whisper \"Diego_Lopez_Castan.mp3\" --task translate --model medium --verbose False --output_dir audio_transcription"
      ],
      "metadata": {
        "colab": {
          "base_uri": "https://localhost:8080/"
        },
        "id": "V6X21BmjojaW",
        "outputId": "ccd9e5d3-a38e-4bbd-8780-cbefa5dd4727"
      },
      "execution_count": 9,
      "outputs": [
        {
          "output_type": "stream",
          "name": "stdout",
          "text": [
            "Detected language: Spanish\n",
            "100% 12068/12068 [00:19<00:00, 612.63frames/s]\n"
          ]
        }
      ]
    }
  ],
  "metadata": {
    "accelerator": "GPU",
    "colab": {
      "provenance": []
    },
    "gpuClass": "standard",
    "kernelspec": {
      "display_name": "Python 3 (ipykernel)",
      "language": "python",
      "name": "python3"
    },
    "language_info": {
      "codemirror_mode": {
        "name": "ipython",
        "version": 3
      },
      "file_extension": ".py",
      "mimetype": "text/x-python",
      "name": "python",
      "nbconvert_exporter": "python",
      "pygments_lexer": "ipython3",
      "version": "3.9.9"
    }
  },
  "nbformat": 4,
  "nbformat_minor": 0
}